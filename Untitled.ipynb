{
 "cells": [
  {
   "cell_type": "code",
   "execution_count": 1,
   "id": "388ae24a",
   "metadata": {},
   "outputs": [
    {
     "name": "stdout",
     "output_type": "stream",
     "text": [
      "Collecting pystan\n",
      "  Downloading pystan-3.3.0-py3-none-any.whl (13 kB)\n",
      "Requirement already satisfied: numpy<2.0,>=1.7 in c:\\users\\91892\\anaconda3\\lib\\site-packages (from pystan) (1.20.1)\n",
      "Collecting pysimdjson<4.0,>=3.2\n",
      "  Downloading pysimdjson-3.2.0-cp38-cp38-win_amd64.whl (151 kB)\n",
      "Collecting pystan\n",
      "  Downloading pystan-3.2.0-py3-none-any.whl (13 kB)\n",
      "  Downloading pystan-3.1.1-py3-none-any.whl (13 kB)\n",
      "  Downloading pystan-3.1.0-py3-none-any.whl (13 kB)\n",
      "  Downloading pystan-3.0.2-py3-none-any.whl (13 kB)\n",
      "  Downloading pystan-3.0.1-py3-none-any.whl (12 kB)\n",
      "  Downloading pystan-3.0.0-py3-none-any.whl (12 kB)\n",
      "  Downloading pystan-2.19.1.1-cp38-cp38-win_amd64.whl (79.8 MB)\n",
      "Requirement already satisfied: Cython!=0.25.1,>=0.22 in c:\\users\\91892\\anaconda3\\lib\\site-packages (from pystan) (0.29.23)\n",
      "Installing collected packages: pystan\n",
      "Successfully installed pystan-2.19.1.1\n"
     ]
    }
   ],
   "source": [
    "!pip install pystan"
   ]
  },
  {
   "cell_type": "code",
   "execution_count": null,
   "id": "665c3f9a",
   "metadata": {},
   "outputs": [],
   "source": [
    "conda install --channel conda-forge pystan fbprophet"
   ]
  }
 ],
 "metadata": {
  "kernelspec": {
   "display_name": "Python 3",
   "language": "python",
   "name": "python3"
  },
  "language_info": {
   "codemirror_mode": {
    "name": "ipython",
    "version": 3
   },
   "file_extension": ".py",
   "mimetype": "text/x-python",
   "name": "python",
   "nbconvert_exporter": "python",
   "pygments_lexer": "ipython3",
   "version": "3.8.8"
  }
 },
 "nbformat": 4,
 "nbformat_minor": 5
}
